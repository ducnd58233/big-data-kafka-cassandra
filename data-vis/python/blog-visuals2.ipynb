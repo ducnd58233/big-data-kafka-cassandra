{
 "cells": [
  {
   "cell_type": "code",
   "execution_count": null,
   "metadata": {},
   "outputs": [],
   "source": [
    "import pandas as pd\n",
    "import seaborn as sns\n",
    "import numpy as np\n",
    "import matplotlib.pyplot as plt\n",
    "from cassandrautils import *\n"
   ]
  },
  {
   "cell_type": "code",
   "execution_count": null,
   "metadata": {},
   "outputs": [],
   "source": [
    "tweets = getTwitter2DF()\n",
    "weather = getWeatherDF()\n",
    "\n",
    "tweets['Tweet timestamp'] = pd.to_datetime(tweets['tweet_date'], format=\"%d-%m-%Y %H:%M\")\n",
    "weather['forecast_timestamp'] = pd.to_datetime(weather['forecastdate'], format=\"%d-%m-%Y %H:%M\")\n",
    "weather['location'].replace(['United Kingdom of Great Britain and Northern Ireland'], ['United Kingdom'], inplace=True)\n",
    "\n",
    "tweets = tweets[tweets['location'] == 'United Kingdom']\n",
    "weather = weather[weather['location'] == 'United Kingdom']\n",
    "print(\"Tweets from \", tweets['Tweet timestamp'].min(), \" To \", tweets['Tweet timestamp'].max())\n",
    "print(\"Weather from \", weather['forecast_timestamp'].min(), \" To \", weather['forecast_timestamp'].max())"
   ]
  },
  {
   "cell_type": "code",
   "execution_count": null,
   "metadata": {},
   "outputs": [],
   "source": [
    "tweets"
   ]
  },
  {
   "cell_type": "code",
   "execution_count": null,
   "metadata": {},
   "outputs": [],
   "source": [
    "weather"
   ]
  },
  {
   "cell_type": "code",
   "execution_count": null,
   "metadata": {},
   "outputs": [],
   "source": [
    "ns10min = 30*60*1000000000   # 30 minutes in nanoseconds \n",
    "tweets['Tweet timestamp 10mins'] = pd.to_datetime(((tweets['Tweet timestamp'].astype(np.int64) // ns10min + 1 ) * ns10min))\n",
    "tweets['Tweet timestamp 10mins'] = pd.to_datetime(tweets['Tweet timestamp 10mins'], format=\"%d-%m-%Y %H:%M\")"
   ]
  },
  {
   "cell_type": "code",
   "execution_count": null,
   "metadata": {},
   "outputs": [],
   "source": [
    "plt.figure(figsize=(20,6))\n",
    "plt.plot(weather['forecast_timestamp'], weather['temp'])\n",
    "plt.xlabel(\"Tweet time\")\n",
    "plt.ylabel(\"Temperature\")\n",
    "plt.title(\"Total weather data recorded\")"
   ]
  },
  {
   "cell_type": "code",
   "execution_count": null,
   "metadata": {},
   "outputs": [],
   "source": [
    "ww = weather[(weather['forecast_timestamp'] <= tweets['Tweet timestamp'].max())]\n",
    "plt.figure(figsize=(20,6))\n",
    "plt.plot(ww['forecast_timestamp'], ww['temp'])\n",
    "plt.xlabel(\"Tweet time\")\n",
    "plt.ylabel(\"Temperature\")\n",
    "plt.title(\"Weather data within tweet window\")"
   ]
  },
  {
   "cell_type": "code",
   "execution_count": null,
   "metadata": {},
   "outputs": [],
   "source": [
    "plt.figure(figsize=(20,6))\n",
    "plt.plot(ww['forecast_timestamp'], ww['feels_like'])\n",
    "plt.xlabel(\"Tweet time\")\n",
    "plt.ylabel(\"Feels like Temperature in (Kelvin)\")"
   ]
  },
  {
   "cell_type": "code",
   "execution_count": null,
   "metadata": {},
   "outputs": [],
   "source": [
    "value_counts = tweets.groupby(['Tweet timestamp 10mins'])['classification'].value_counts().rename_axis(['Tweet timestamp', 'classification']).reset_index(name='counts')\n",
    "#value_counts.index.names = ['test', 'check']\n",
    "\n",
    "value_counts.pivot(\"Tweet timestamp\", \"classification\", \"counts\").plot(kind='bar', figsize=(20,10))\n",
    "plt.xlabel(\"Tweet time\")\n",
    "plt.ylabel(\"Tweet Count\")\n",
    "plt.title(\"Plotting positive and negative tweet counts\")\n",
    "plt.show()\n"
   ]
  },
  {
   "cell_type": "code",
   "execution_count": null,
   "metadata": {},
   "outputs": [],
   "source": [
    "def scoring(senti, c_val):\n",
    "    if senti == \"Positive\":\n",
    "        return c_val\n",
    "    return c_val*(-1)\n",
    "\n",
    "\n",
    "value_counts['adjusted'] = value_counts.apply(lambda x: scoring(x[\"classification\"], x[\"counts\"]), axis=1)\n",
    "trend = value_counts.groupby(['Tweet timestamp'], as_index=False).agg({'adjusted' : \"sum\"})\n",
    "plt.figure(figsize=(20,6))\n",
    "plt.xlabel(\"Tweet time\")\n",
    "plt.ylabel(\"Net score\")\n",
    "plt.title(\"Plotting net tweet sentiments\")\n",
    "plt.plot(trend['Tweet timestamp'], trend['adjusted'])"
   ]
  },
  {
   "cell_type": "code",
   "execution_count": null,
   "metadata": {},
   "outputs": [],
   "source": [
    "plt.figure(figsize=(20,6))\n",
    "plt.plot(ww['forecast_timestamp'], ww['feels_like'])\n",
    "plt.xlabel(\"Tweet time\")\n",
    "plt.ylabel(\"Feels like Temperature in (Kelvin)\")\n",
    "plt.title(\"Plotting 'Feels like' temperature\")"
   ]
  }
 ],
 "metadata": {
  "kernelspec": {
   "display_name": "Python 3.9.15 ('twitter-api-2')",
   "language": "python",
   "name": "python3"
  },
  "language_info": {
   "codemirror_mode": {
    "name": "ipython",
    "version": 3
   },
   "file_extension": ".py",
   "mimetype": "text/x-python",
   "name": "python",
   "nbconvert_exporter": "python",
   "pygments_lexer": "ipython3",
   "version": "3.9.15"
  },
  "vscode": {
   "interpreter": {
    "hash": "4a7d87161abb7849a77b5b0cb58c99df8b96efadb6607492ee90793b0c9acc91"
   }
  }
 },
 "nbformat": 4,
 "nbformat_minor": 4
}
